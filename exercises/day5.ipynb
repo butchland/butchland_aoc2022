{
  "cells": [
    {
      "cell_type": "raw",
      "metadata": {},
      "source": [
        "---\n",
        "title: Day 5\n",
        "---"
      ],
      "id": "467a614d"
    },
    {
      "cell_type": "code",
      "metadata": {},
      "source": [
        "#| echo: false\n",
        "import nbdev.showdoc as sd\n",
        "from pprint import pprint\n",
        "import fastcore.all as fc"
      ],
      "id": "6c0adf33",
      "execution_count": null,
      "outputs": []
    },
    {
      "cell_type": "markdown",
      "metadata": {},
      "source": [
        "## Part 1\n",
        "\n",
        "* Read in input file "
      ],
      "id": "662602b7"
    },
    {
      "cell_type": "code",
      "metadata": {},
      "source": [
        "with open(\"day5/input.txt\") as f:\n",
        "    input = f.read().splitlines()"
      ],
      "id": "671708cc",
      "execution_count": null,
      "outputs": []
    },
    {
      "cell_type": "markdown",
      "metadata": {},
      "source": [
        "First 100 lines of input looks like\n",
        "this:\n"
      ],
      "id": "32a070c4"
    },
    {
      "cell_type": "code",
      "metadata": {},
      "source": [
        "#| echo: false\n",
        "pprint(input[:100])"
      ],
      "id": "b7473858",
      "execution_count": null,
      "outputs": []
    },
    {
      "cell_type": "markdown",
      "metadata": {},
      "source": [
        "* Create a generator that returns the totals each time it iterates\n"
      ],
      "id": "39681316"
    },
    {
      "cell_type": "code",
      "metadata": {},
      "source": [
        "#| echo: false\n",
        "from butchland_aoc2022.day5 import *"
      ],
      "id": "bc6f7712",
      "execution_count": null,
      "outputs": []
    },
    {
      "cell_type": "code",
      "metadata": {},
      "source": [
        "with open(\"day5/sample.txt\") as f:\n",
        "    samples = f.read().splitlines() "
      ],
      "id": "0bcc93a0",
      "execution_count": null,
      "outputs": []
    },
    {
      "cell_type": "code",
      "metadata": {},
      "source": [
        "pprint(samples)"
      ],
      "id": "fd1f3ad3",
      "execution_count": null,
      "outputs": []
    },
    {
      "cell_type": "markdown",
      "metadata": {},
      "source": [
        "* create function that can compute the number of stacks\n"
      ],
      "id": "e7daa864"
    },
    {
      "cell_type": "code",
      "metadata": {},
      "source": [
        "#| echo: false\n",
        "sd.show_doc(get_stack_count)"
      ],
      "id": "3d4e8786",
      "execution_count": null,
      "outputs": []
    },
    {
      "cell_type": "code",
      "metadata": {},
      "source": [
        "print(get_stack_count(samples))"
      ],
      "id": "1de90cd2",
      "execution_count": null,
      "outputs": []
    },
    {
      "cell_type": "markdown",
      "metadata": {},
      "source": [
        "* create a function to initialize `n` stacks"
      ],
      "id": "655c38db"
    },
    {
      "cell_type": "code",
      "metadata": {},
      "source": [
        "#| echo: false\n",
        "sd.show_doc(init_stacks)"
      ],
      "id": "a2639404",
      "execution_count": null,
      "outputs": []
    },
    {
      "cell_type": "code",
      "metadata": {},
      "source": [
        "init_stacks(3)"
      ],
      "id": "43bd65c6",
      "execution_count": null,
      "outputs": []
    },
    {
      "cell_type": "markdown",
      "metadata": {},
      "source": [
        "* create a function to split the samples into the stacks and the moves"
      ],
      "id": "cc716bd9"
    },
    {
      "cell_type": "code",
      "metadata": {},
      "source": [
        "#| echo: false\n",
        "sd.show_doc(split_stack_moves)"
      ],
      "id": "cd5e0c24",
      "execution_count": null,
      "outputs": []
    },
    {
      "cell_type": "code",
      "metadata": {},
      "source": [
        "stacks,moves = split_stack_moves(samples)\n",
        "pprint(stacks)\n",
        "pprint(moves)"
      ],
      "id": "b350a4d9",
      "execution_count": null,
      "outputs": []
    },
    {
      "cell_type": "markdown",
      "metadata": {},
      "source": [
        "* create a function that parses the stacks printout into a real stack data structure"
      ],
      "id": "35fba1b1"
    },
    {
      "cell_type": "code",
      "metadata": {},
      "source": [
        "#| echo: false\n",
        "sd.show_doc(build_stacks)"
      ],
      "id": "61c4f85f",
      "execution_count": null,
      "outputs": []
    },
    {
      "cell_type": "code",
      "metadata": {},
      "source": [
        "n_stacks = get_stack_count(samples)\n",
        "stacks = build_stacks(stacks, n_stacks)\n",
        "print(stacks, n_stacks)"
      ],
      "id": "1045775f",
      "execution_count": null,
      "outputs": []
    },
    {
      "cell_type": "markdown",
      "metadata": {},
      "source": [
        "* build a function that can parse a move statement"
      ],
      "id": "5d57c93f"
    },
    {
      "cell_type": "code",
      "metadata": {},
      "source": [
        "#| echo: false\n",
        "sd.show_doc(parse_move)"
      ],
      "id": "d7d53224",
      "execution_count": null,
      "outputs": []
    },
    {
      "cell_type": "code",
      "metadata": {},
      "source": [
        "print(parse_move(\"move 1 from 2 to 1\"))"
      ],
      "id": "3ca90c49",
      "execution_count": null,
      "outputs": []
    },
    {
      "cell_type": "markdown",
      "metadata": {},
      "source": [
        "* build a function that can execute a move\n"
      ],
      "id": "ef8fe3b5"
    },
    {
      "cell_type": "code",
      "metadata": {},
      "source": [
        "#| echo: false\n",
        "sd.show_doc(execute_move)"
      ],
      "id": "9255e3ba",
      "execution_count": null,
      "outputs": []
    },
    {
      "cell_type": "code",
      "metadata": {},
      "source": [
        "print(\"before move:\")\n",
        "pprint(stacks)\n",
        "print(\"performing move 1 from 2 to 1\")\n",
        "execute_move(stacks,1,2,1)\n",
        "print(\"after move:\")\n",
        "pprint(stacks)"
      ],
      "id": "14bd49d1",
      "execution_count": null,
      "outputs": []
    },
    {
      "cell_type": "markdown",
      "metadata": {},
      "source": [
        "* create a function to process the moves"
      ],
      "id": "02383eab"
    },
    {
      "cell_type": "code",
      "metadata": {},
      "source": [
        "#| echo: false\n",
        "sd.show_doc(process_moves)"
      ],
      "id": "7ca9fbec",
      "execution_count": null,
      "outputs": []
    },
    {
      "cell_type": "code",
      "metadata": {},
      "source": [
        "final_stacks = process_moves(samples)\n",
        "pprint(final_stacks)"
      ],
      "id": "b8a999e1",
      "execution_count": null,
      "outputs": []
    },
    {
      "cell_type": "markdown",
      "metadata": {},
      "source": [
        "* create a function to grab the top element for\n",
        "each stack and concatenate them into a string\n"
      ],
      "id": "7710ed83"
    },
    {
      "cell_type": "code",
      "metadata": {},
      "source": [
        "#| echo: false\n",
        "sd.show_doc(get_top_elements)"
      ],
      "id": "979f9041",
      "execution_count": null,
      "outputs": []
    },
    {
      "cell_type": "code",
      "metadata": {},
      "source": [
        "print(get_top_elements(final_stacks))"
      ],
      "id": "96048d2d",
      "execution_count": null,
      "outputs": []
    },
    {
      "cell_type": "markdown",
      "metadata": {},
      "source": [
        "* Finally the answer for the top elements given the input\n"
      ],
      "id": "ad27a963"
    },
    {
      "cell_type": "code",
      "metadata": {},
      "source": [
        "input_stacks = process_moves(input)\n",
        "answer1 = get_top_elements(input_stacks)\n",
        "print(f'the correct answer for part 1 is {answer1}')"
      ],
      "id": "6705bbb6",
      "execution_count": null,
      "outputs": []
    },
    {
      "cell_type": "markdown",
      "metadata": {},
      "source": [
        "## Part 2\n"
      ],
      "id": "db7e5d21"
    },
    {
      "cell_type": "code",
      "metadata": {},
      "source": [
        "input_stacks2 = process_moves2(input)\n",
        "answer2 = get_top_elements(input_stacks2)\n",
        "print(f'the correct answer for part 2 is {answer2}')"
      ],
      "id": "23c23470",
      "execution_count": null,
      "outputs": []
    }
  ],
  "metadata": {
    "kernelspec": {
      "name": "python3",
      "language": "python",
      "display_name": "Python 3 (ipykernel)"
    }
  },
  "nbformat": 4,
  "nbformat_minor": 5
}