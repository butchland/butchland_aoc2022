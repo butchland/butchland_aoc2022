{
 "cells": [
  {
   "cell_type": "code",
   "execution_count": null,
   "id": "48f60598-3bee-4e5c-b57d-ac465c32cfa1",
   "metadata": {},
   "outputs": [],
   "source": [
    "from butchland_aoc2022.day11 import *"
   ]
  },
  {
   "cell_type": "code",
   "execution_count": null,
   "id": "7ca3f870-067a-42af-8a04-0a385920aeeb",
   "metadata": {},
   "outputs": [],
   "source": [
    "sm_input = \"\"\"Monkey 0:\n",
    "  Starting items: 79, 98\n",
    "  Operation: new = old * 19\n",
    "  Test: divisible by 23\n",
    "    If true: throw to monkey 2\n",
    "    If false: throw to monkey 3\n",
    "\n",
    "Monkey 1:\n",
    "  Starting items: 54, 65, 75, 74\n",
    "  Operation: new = old + 6\n",
    "  Test: divisible by 19\n",
    "    If true: throw to monkey 2\n",
    "    If false: throw to monkey 0\n",
    "\n",
    "Monkey 2:\n",
    "  Starting items: 79, 60, 97\n",
    "  Operation: new = old * old\n",
    "  Test: divisible by 13\n",
    "    If true: throw to monkey 1\n",
    "    If false: throw to monkey 3\n",
    "\n",
    "Monkey 3:\n",
    "  Starting items: 74\n",
    "  Operation: new = old + 3\n",
    "  Test: divisible by 17\n",
    "    If true: throw to monkey 0\n",
    "    If false: throw to monkey 1\"\"\"\n"
   ]
  },
  {
   "cell_type": "code",
   "execution_count": null,
   "id": "0732248d-255f-4c95-8102-f27db070e6e0",
   "metadata": {},
   "outputs": [],
   "source": [
    "def sm_samples():\n",
    "    return sm_input.splitlines()"
   ]
  },
  {
   "cell_type": "code",
   "execution_count": null,
   "id": "cc1ed218-10ed-42d2-8fe7-b34773efeb95",
   "metadata": {},
   "outputs": [
    {
     "data": {
      "text/plain": [
       "96577"
      ]
     },
     "execution_count": null,
     "metadata": {},
     "output_type": "execute_result"
    }
   ],
   "source": [
    "lcm = extract_lcm(sm_samples()); lcm"
   ]
  },
  {
   "cell_type": "code",
   "execution_count": null,
   "id": "92f4be3a-fab4-44d9-ba20-03bd742b5d7d",
   "metadata": {},
   "outputs": [],
   "source": [
    "monkeys = list(generate_monkeys(sm_samples()))"
   ]
  },
  {
   "cell_type": "code",
   "execution_count": null,
   "id": "a252efdf-b613-415d-b9a8-aab1aa1fc647",
   "metadata": {},
   "outputs": [],
   "source": [
    "monkeys2 = list(generate_monkeys(sm_samples(),divisor=3))"
   ]
  },
  {
   "cell_type": "code",
   "execution_count": null,
   "id": "9e38ccfa-686d-474b-8122-e396b6a4cc29",
   "metadata": {},
   "outputs": [
    {
     "data": {
      "text/plain": [
       "19"
      ]
     },
     "execution_count": null,
     "metadata": {},
     "output_type": "execute_result"
    }
   ],
   "source": [
    "monkeys2[0].operation(3)"
   ]
  },
  {
   "cell_type": "code",
   "execution_count": null,
   "id": "8d5873c8-db42-4a4e-9224-cda1ed13d8c4",
   "metadata": {},
   "outputs": [
    {
     "data": {
      "text/plain": [
       "2"
      ]
     },
     "execution_count": null,
     "metadata": {},
     "output_type": "execute_result"
    }
   ],
   "source": [
    "monkeys2[1].operation(1)"
   ]
  },
  {
   "cell_type": "code",
   "execution_count": null,
   "id": "b7779d72-8729-4da7-b396-f98c0254ee26",
   "metadata": {},
   "outputs": [
    {
     "data": {
      "text/plain": [
       "2"
      ]
     },
     "execution_count": null,
     "metadata": {},
     "output_type": "execute_result"
    }
   ],
   "source": [
    "7 // 3"
   ]
  },
  {
   "cell_type": "code",
   "execution_count": null,
   "id": "55385b04-71ef-4c02-bb8e-677b8eff2d94",
   "metadata": {},
   "outputs": [
    {
     "data": {
      "text/plain": [
       "7"
      ]
     },
     "execution_count": null,
     "metadata": {},
     "output_type": "execute_result"
    }
   ],
   "source": [
    "monkeys[1].operation(1)"
   ]
  },
  {
   "cell_type": "code",
   "execution_count": null,
   "id": "29db3630-92f4-4151-95b8-cfe569c7394a",
   "metadata": {},
   "outputs": [
    {
     "data": {
      "text/plain": [
       "7"
      ]
     },
     "execution_count": null,
     "metadata": {},
     "output_type": "execute_result"
    }
   ],
   "source": [
    "monkeys2[1].operation(15)"
   ]
  },
  {
   "cell_type": "code",
   "execution_count": null,
   "id": "c7e15a51-000e-4ba4-ab1a-dacbcbd67ece",
   "metadata": {},
   "outputs": [],
   "source": []
  }
 ],
 "metadata": {
  "kernelspec": {
   "display_name": "Python 3 (ipykernel)",
   "language": "python",
   "name": "python3"
  }
 },
 "nbformat": 4,
 "nbformat_minor": 5
}
